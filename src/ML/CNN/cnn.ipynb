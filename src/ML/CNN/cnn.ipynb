{
 "cells": [
  {
   "cell_type": "code",
   "execution_count": 16,
   "metadata": {},
   "outputs": [],
   "source": [
    "from torch.nn import Module\n",
    "from torch.nn import Conv2d\n",
    "from torch.nn import Linear\n",
    "from torch.nn import MaxPool2d\n",
    "from torch.nn import Sequential\n",
    "from torch.nn import BatchNorm2d\n",
    "from torch.nn import ELU\n",
    "from torch import flatten"
   ]
  },
  {
   "cell_type": "code",
   "execution_count": 19,
   "metadata": {},
   "outputs": [],
   "source": [
    "class MultiLabelCNN(Module):\n",
    "    def __init__(self, num_classes):\n",
    "        super(MultiLabelCNN, self).__init__()\n",
    "        \n",
    "        self.hidden_layers = Sequential (\n",
    "            Conv2d(in_channels=1, out_channels=64, kernel_size=(3,3)),\n",
    "            BatchNorm2d(64),\n",
    "            ELU(),\n",
    "            MaxPool2d((2,2)),\n",
    "\n",
    "            Conv2d(in_channels=64, out_channels=128, kernel_size=(3,3)),\n",
    "            BatchNorm2d(128),\n",
    "            ELU(),\n",
    "            MaxPool2d((2, 2)),\n",
    "\n",
    "            Conv2d(in_channels=128, out_channels=256, kernel_size=(3,3)),\n",
    "            BatchNorm2d(256),\n",
    "            ELU(),\n",
    "            MaxPool2d((3, 3)),\n",
    "\n",
    "            Conv2d(in_channels=256, out_channels=256, kernel_size=(3,3)),\n",
    "            BatchNorm2d(256),\n",
    "            ELU(),\n",
    "            MaxPool2d((3, 3)),\n",
    "        )\n",
    "\n",
    "        self.linear_layers = Sequential(\n",
    "            Linear(in_features=256, out_features=128),  # Adjusted input features to match flattened conv output\n",
    "            ELU(),\n",
    "            Linear(in_features=128, out_features=num_classes)\n",
    "        )\n",
    "\n",
    "    def forward(self, x):\n",
    "        # Pass input through the convolutional layers\n",
    "        x = self.hidden_layers(x)\n",
    "        \n",
    "        # Flatten the output of the convolutional layers to fit linear layer input\n",
    "        x = flatten(x, 1)  # Flatten all dimensions except the batch\n",
    "        \n",
    "        # Pass data through linear layers\n",
    "        x = self.linear_layers(x)\n",
    "        \n",
    "        return x\n"
   ]
  },
  {
   "cell_type": "code",
   "execution_count": 13,
   "metadata": {},
   "outputs": [],
   "source": [
    "from torch.nn import BCEWithLogitsLoss\n",
    "import torch.optim as optim\n"
   ]
  },
  {
   "cell_type": "code",
   "execution_count": 18,
   "metadata": {},
   "outputs": [
    {
     "ename": "NameError",
     "evalue": "name 'MultiLabelCNN' is not defined",
     "output_type": "error",
     "traceback": [
      "\u001b[0;31m---------------------------------------------------------------------------\u001b[0m",
      "\u001b[0;31mNameError\u001b[0m                                 Traceback (most recent call last)",
      "Cell \u001b[0;32mIn[18], line 2\u001b[0m\n\u001b[1;32m      1\u001b[0m \u001b[38;5;66;03m# TODO: training specifications\u001b[39;00m\n\u001b[0;32m----> 2\u001b[0m cnn \u001b[38;5;241m=\u001b[39m \u001b[43mMultiLabelCNN\u001b[49m()\n\u001b[1;32m      4\u001b[0m \u001b[38;5;66;03m# loss function\u001b[39;00m\n\u001b[1;32m      5\u001b[0m criterion \u001b[38;5;241m=\u001b[39m BCEWithLogitsLoss()\n",
      "\u001b[0;31mNameError\u001b[0m: name 'MultiLabelCNN' is not defined"
     ]
    }
   ],
   "source": [
    "# TODO: training specifications\n",
    "cnn = MultiLabelCNN()\n",
    "\n",
    "# loss function\n",
    "criterion = BCEWithLogitsLoss()\n",
    "#TODO: add model.parameters() as argument.\n",
    "optimizer = optim.SGD(cnn.parameters(), lr=0.0001, momentum=0.9)\n",
    "\n",
    "#TODO: prepare data\n"
   ]
  }
 ],
 "metadata": {
  "kernelspec": {
   "display_name": "env",
   "language": "python",
   "name": "python3"
  },
  "language_info": {
   "codemirror_mode": {
    "name": "ipython",
    "version": 3
   },
   "file_extension": ".py",
   "mimetype": "text/x-python",
   "name": "python",
   "nbconvert_exporter": "python",
   "pygments_lexer": "ipython3",
   "version": "3.12.2"
  }
 },
 "nbformat": 4,
 "nbformat_minor": 2
}
