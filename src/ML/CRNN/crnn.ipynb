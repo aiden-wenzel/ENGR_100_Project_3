{
 "cells": [
  {
   "cell_type": "markdown",
   "metadata": {},
   "source": [
    "CRNN Base Structure (TODO Training and Accuracy)"
   ]
  },
  {
   "cell_type": "code",
   "execution_count": 5,
   "metadata": {},
   "outputs": [],
   "source": [
    "# Import required libraries\n",
    "import numpy as np\n",
    "import torch\n",
    "import torch.nn as nn"
   ]
  },
  {
   "cell_type": "code",
   "execution_count": 6,
   "metadata": {},
   "outputs": [],
   "source": [
    "# Base structure of CRNN\n",
    "class CRNN(nn.Module):\n",
    "    def __init__(self):\n",
    "        super(CRNN, self).__init__()\n",
    "        self.features = nn.Sequential (\n",
    "            nn.Conv2d(in_channels=1, out_channels=64, kernel_size=(3,3)),\n",
    "            nn.BatchNorm2d(64),\n",
    "            nn.ELU(),\n",
    "            nn.MaxPool2d((2,2)),\n",
    "\n",
    "            nn.Conv2d(in_channels=64, out_channels=128, kernel_size=(3,3)),\n",
    "            nn.BatchNorm2d(128),\n",
    "            nn.ELU(),\n",
    "            nn.MaxPool2d((2, 2)),\n",
    "\n",
    "            nn.Conv2d(in_channels=128, out_channels=256, kernel_size=(3,3)),\n",
    "            nn.BatchNorm2d(256),\n",
    "            nn.ELU(),\n",
    "            nn.MaxPool2d((2, 2)),\n",
    "\n",
    "            nn.Conv2d(in_channels=256, out_channels=256, kernel_size=(3,3)),\n",
    "            nn.BatchNorm2d(256),\n",
    "            nn.ELU(),\n",
    "            nn.MaxPool2d((2, 2)),\n",
    "\n",
    "            nn.Flatten()\n",
    "        )\n",
    "\n",
    "        W = 86 // (2**4)\n",
    "        H = 96 // (2**4)\n",
    "        C = 256\n",
    "\n",
    "        totalInstruments = 3\n",
    "\n",
    "        self.gru = nn.GRU(\n",
    "            input_size=C*H, \n",
    "            hidden_size=256, \n",
    "            batch_first=True\n",
    "        )\n",
    "        # out_features is technically 18 in paper, but realistically 3 at the beginning\n",
    "        self.fc = nn.Linear(in_features=256, out_features=totalInstruments)\n",
    "        \n",
    "    def forward(self, input):\n",
    "        conv_output = self.features(input)\n",
    "        gru_output, _ = self.gru(conv_output)\n",
    "\n",
    "        fc_input = gru_output[:, -1, :]\n",
    "\n",
    "        return self.fc(fc_input)"
   ]
  },
  {
   "cell_type": "code",
   "execution_count": 7,
   "metadata": {},
   "outputs": [],
   "source": [
    "# Future stuff for training and accuracy of CNN\n",
    "import torch.optim as optim\n",
    "\n",
    "model = CRNN()\n",
    "lossAlg = nn.BCEWithLogitsLoss()\n",
    "optimizer = optim.SGD(model.parameters(), lr = 0.0001, momentum=0.9)"
   ]
  },
  {
   "cell_type": "code",
   "execution_count": 25,
   "metadata": {},
   "outputs": [],
   "source": [
    "# Training the model\n",
    "from torch.utils.data import DataLoader\n",
    "from utils import *\n",
    "\n",
    "batch_size = 32\n",
    "#dataloader = DataLoader(dataset, batch_size = batch_size, shuffle=True)\n",
    "\n",
    "num_epochs = 20\n",
    "for epoch in range(num_epochs):\n",
    "    #for batch in dataloader:\n",
    "        #input, labels = batch\n",
    "        #output = CRNN(input)\n",
    "        #loss = lossAlg(output.view(-1), labels.view(-1))\n",
    "        #optimizer.zero_grad()\n",
    "        \n",
    "        # optimizer.step()\n",
    "    #print(f'Epoch [{epoch + 1}/{num_epochs}], Loss: {loss.item():.4f}')\n",
    "    break"
   ]
  }
 ],
 "metadata": {
  "kernelspec": {
   "display_name": ".venv",
   "language": "python",
   "name": "python3"
  },
  "language_info": {
   "codemirror_mode": {
    "name": "ipython",
    "version": 3
   },
   "file_extension": ".py",
   "mimetype": "text/x-python",
   "name": "python",
   "nbconvert_exporter": "python",
   "pygments_lexer": "ipython3",
   "version": "3.11.5"
  }
 },
 "nbformat": 4,
 "nbformat_minor": 2
}
