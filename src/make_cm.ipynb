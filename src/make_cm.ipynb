{
 "cells": [
  {
   "cell_type": "code",
   "execution_count": 1,
   "metadata": {},
   "outputs": [],
   "source": [
    "import torch\n",
    "import utils\n",
    "from torch.utils.data import DataLoader"
   ]
  },
  {
   "cell_type": "code",
   "execution_count": 2,
   "metadata": {},
   "outputs": [],
   "source": [
    "classes = ['oboe', 'violin', 'trumpet']\n",
    "\n",
    "utils.create_hdf5(\"../sample_audio_training/train\", classes, \"trainData.h5\")\n",
    "utils.create_hdf5(\"../sample_audio_training/test\", classes, \"testData.h5\")"
   ]
  },
  {
   "cell_type": "code",
   "execution_count": 3,
   "metadata": {},
   "outputs": [],
   "source": [
    "import CNN\n",
    "\n",
    "cnn = CNN.MultiLabelCNN(3)\n",
    "cnn.load_state_dict(torch.load('cnn.pkl'))\n",
    "\n",
    "classes = ['cnn_oboe', 'cnn_violin', 'cnn_trumpet']\n",
    "\n",
    "test_dataset = CNN.FrameDataset('testData.h5')\n",
    "test_dataloader = DataLoader(test_dataset, batch_size=32, shuffle=True)\n",
    "\n",
    "from confusion_matrix import MultiLabelConfusionMatrix, plot_confusion_matrices\n",
    "\n",
    "cm = MultiLabelConfusionMatrix(cnn, test_dataloader)\n",
    "plot_confusion_matrices(cm, classes)"
   ]
  },
  {
   "cell_type": "code",
   "execution_count": 8,
   "metadata": {},
   "outputs": [
    {
     "name": "stdout",
     "output_type": "stream",
     "text": [
      "0.0\n"
     ]
    }
   ],
   "source": [
    "import MLP\n",
    "\n",
    "mlp = MLP.MultiLabelMLP(96*87, [256, 256, 256, 256], 3)\n",
    "mlp.load_state_dict(torch.load('../pretrained_models/MLP/v3_3.pkl'))\n",
    "\n",
    "classes = ['mlp_oboe', 'mlp_violin', 'mlp_trumpet']\n",
    "\n",
    "test_dataset = MLP.FrameDataset('testData.h5')\n",
    "\n",
    "test_dataloader = DataLoader(test_dataset, batch_size=32, shuffle=True)\n",
    "\n",
    "from confusion_matrix import MultiLabelConfusionMatrix, plot_confusion_matrices\n",
    "\n",
    "cm = MultiLabelConfusionMatrix(mlp, test_dataloader)\n",
    "plot_confusion_matrices(cm, classes)"
   ]
  },
  {
   "cell_type": "code",
   "execution_count": 7,
   "metadata": {},
   "outputs": [],
   "source": [
    "import CRNN\n",
    "\n",
    "crnn = CRNN.CRNN()\n",
    "crnn.load_state_dict(torch.load('../pretrained_models/CRNN/crnn_model.pkl'))\n",
    "\n",
    "classes = ['crnn_oboe', 'crnn_violin', 'crnn_trumpet']\n",
    "\n",
    "test_dataset = CRNN.FrameDataset('testData.h5')\n",
    "\n",
    "test_dataloader = DataLoader(test_dataset, batch_size=32, shuffle=True)\n",
    "\n",
    "from confusion_matrix import MultiLabelConfusionMatrix, plot_confusion_matrices\n",
    "\n",
    "cm = MultiLabelConfusionMatrix(crnn, test_dataloader)\n",
    "plot_confusion_matrices(cm, classes)"
   ]
  }
 ],
 "metadata": {
  "kernelspec": {
   "display_name": "env",
   "language": "python",
   "name": "python3"
  },
  "language_info": {
   "codemirror_mode": {
    "name": "ipython",
    "version": 3
   },
   "file_extension": ".py",
   "mimetype": "text/x-python",
   "name": "python",
   "nbconvert_exporter": "python",
   "pygments_lexer": "ipython3",
   "version": "3.12.2"
  }
 },
 "nbformat": 4,
 "nbformat_minor": 2
}
