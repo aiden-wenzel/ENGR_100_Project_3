{
 "cells": [
  {
   "cell_type": "code",
   "execution_count": 122,
   "metadata": {},
   "outputs": [],
   "source": [
    "import librosa\n",
    "import numpy as np\n",
    "from typing import Tuple"
   ]
  },
  {
   "cell_type": "code",
   "execution_count": 123,
   "metadata": {},
   "outputs": [],
   "source": [
    "def combine_tracks(path_1:str, path_2:str, mult_1=1, mult_2=1, sr=22050) -> Tuple[np.array, int]:\n",
    "    y_1, sr_1 = librosa.load(path_1, sr=sr)\n",
    "    y_2, sr_2 = librosa.load(path_2, sr=sr)\n",
    "    if(y_1.size > y_2.size):\n",
    "        y_1 = np.pad(y_1, (0,sr_1 - (y_1.size%sr_1)), 'constant', constant_values= (0))\n",
    "        y_2 = np.pad(y_2, (0,y_1.size-y_2.size), 'constant', constant_values= (0))\n",
    "    else:\n",
    "        y_2 = np.pad(y_2, (0,sr_2 - (y_2.size%sr_2)), 'constant', constant_values= (0))\n",
    "        y_1 = np.pad(y_1, (0,y_2.size-y_1.size), 'constant', constant_values= (0))\n",
    "    y = np.add(y_1 * mult_1, y_2 * mult_2)\n",
    "    \n",
    "    return (y, sr)\n",
    "\n",
    "def split_snippets(y:np.array, sr:int) -> np.array:\n",
    "    return y.reshape((int) (y.size/sr), sr)\n",
    "    "
   ]
  },
  {
   "cell_type": "code",
   "execution_count": 124,
   "metadata": {},
   "outputs": [
    {
     "data": {
      "text/plain": [
       "(22050,)"
      ]
     },
     "execution_count": 124,
     "metadata": {},
     "output_type": "execute_result"
    }
   ],
   "source": [
    "y, sr = combine_tracks(\"sample_audio_training/trumpet/0005.wav\", \"sample_audio_training/violin/0010.wav\")\n",
    "split_snippets(y, sr)[0].shape\n"
   ]
  },
  {
   "cell_type": "code",
   "execution_count": 125,
   "metadata": {},
   "outputs": [],
   "source": [
    "out  = librosa.feature.melspectrogram(y = y, hop_length= 256, n_mels = 96)"
   ]
  },
  {
   "cell_type": "code",
   "execution_count": 126,
   "metadata": {},
   "outputs": [
    {
     "data": {
      "text/plain": [
       "<matplotlib.collections.QuadMesh at 0x10b45b750>"
      ]
     },
     "execution_count": 126,
     "metadata": {},
     "output_type": "execute_result"
    },
    {
     "data": {
      "image/png": "[encoded data removed]",
      "text/plain": [
       "<Figure size 640x480 with 1 Axes>"
      ]
     },
     "metadata": {},
     "output_type": "display_data"
    }
   ],
   "source": [
    "librosa.display.specshow(out)"
   ]
  }
 ],
 "metadata": {
  "kernelspec": {
   "display_name": "Python 3",
   "language": "python",
   "name": "python3"
  },
  "language_info": {
   "codemirror_mode": {
    "name": "ipython",
    "version": 3
   },
   "file_extension": ".py",
   "mimetype": "text/x-python",
   "name": "python",
   "nbconvert_exporter": "python",
   "pygments_lexer": "ipython3",
   "version": "3.11.5"
  }
 },
 "nbformat": 4,
 "nbformat_minor": 2
}
