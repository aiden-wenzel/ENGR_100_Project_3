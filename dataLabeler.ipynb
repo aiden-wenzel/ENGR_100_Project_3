{
 "cells": [
  {
   "cell_type": "code",
   "execution_count": 1,
   "metadata": {},
   "outputs": [],
   "source": [
    "#Import Required Libraries\n",
    "import numpy as np\n",
    "import os"
   ]
  },
  {
   "cell_type": "code",
   "execution_count": 2,
   "metadata": {},
   "outputs": [
    {
     "ename": "",
     "evalue": "",
     "output_type": "error",
     "traceback": [
      "\u001b[1;31mThe Kernel crashed while executing code in the current cell or a previous cell. \n",
      "\u001b[1;31mPlease review the code in the cell(s) to identify a possible cause of the failure. \n",
      "\u001b[1;31mClick <a href='https://aka.ms/vscodeJupyterKernelCrash'>here</a> for more info. \n",
      "\u001b[1;31mView Jupyter <a href='command:jupyter.viewOutput'>log</a> for further details."
     ]
    }
   ],
   "source": [
    "from work import *\n",
    "\n",
    "def processTrack(path:str, sr=22050) -> Tuple[np.array, int]:\n",
    "    y, _ = librosa.load(path, sr=sr, mono=True)\n",
    "    energy = np.sqrt(np.mean(y**2))\n",
    "    y_normal = y / energy\n",
    "\n",
    "    chunk = np.array()\n",
    "    for start in range(0, len(y_normal), sr):\n",
    "        end = start + sr\n",
    "        if (end <= len(y_normal)):\n",
    "            chunk.append(y_normal[start:end])\n",
    "\n",
    "    return np.array(chunk)\n",
    "\n",
    "labels = []\n",
    "nn_data = []\n",
    "mlp_data = []\n",
    "\n",
    "directory = os.path.join(os.getcwd(), \"sample_audio_training\")\n",
    "os.chdir(directory)\n",
    "\n",
    "for folder in os.listdir(directory):\n",
    "    new_path = os.path.join(os.getcwd(), folder)\n",
    "    os.chdir(new_path)\n",
    "\n",
    "    for file in os.listdir(new_path):\n",
    "        chunks = processTrack(file)\n",
    "        print(chunks)\n",
    "        # for chunk in chunks:\n",
    "        #     labels.append(str(folder))\n",
    "            #nn_data.append(get_mel_spectograms(chunk, sr=22050))\n",
    "\n",
    "    os.chdir(directory)"
   ]
  },
  {
   "cell_type": "code",
   "execution_count": 1,
   "metadata": {},
   "outputs": [
    {
     "ename": "NameError",
     "evalue": "name 'labels' is not defined",
     "output_type": "error",
     "traceback": [
      "\u001b[0;31m---------------------------------------------------------------------------\u001b[0m",
      "\u001b[0;31mNameError\u001b[0m                                 Traceback (most recent call last)",
      "Cell \u001b[0;32mIn[1], line 1\u001b[0m\n\u001b[0;32m----> 1\u001b[0m \u001b[38;5;28mprint\u001b[39m(\u001b[43mlabels\u001b[49m)\n\u001b[1;32m      2\u001b[0m \u001b[38;5;28mprint\u001b[39m(nn_data)\n",
      "\u001b[0;31mNameError\u001b[0m: name 'labels' is not defined"
     ]
    }
   ],
   "source": [
    "print(labels)\n",
    "print(nn_data)"
   ]
  }
 ],
 "metadata": {
  "kernelspec": {
   "display_name": "VENV",
   "language": "python",
   "name": "venv"
  },
  "language_info": {
   "codemirror_mode": {
    "name": "ipython",
    "version": 3
   },
   "file_extension": ".py",
   "mimetype": "text/x-python",
   "name": "python",
   "nbconvert_exporter": "python",
   "pygments_lexer": "ipython3",
   "version": "3.9.7"
  }
 },
 "nbformat": 4,
 "nbformat_minor": 2
}
