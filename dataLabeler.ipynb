{
 "cells": [
  {
   "cell_type": "code",
   "execution_count": 2,
   "metadata": {},
   "outputs": [],
   "source": [
    "#Import Required Libraries\n",
    "import numpy as np\n",
    "import os"
   ]
  },
  {
   "cell_type": "code",
   "execution_count": null,
   "metadata": {},
   "outputs": [],
   "source": [
    "from work import *\n",
    "\n",
    "labels = []\n",
    "nn_data = []\n",
    "mlp_data = []\n",
    "\n",
    "directory = os.path.join(os.getcwd(), \"sample_audio_training\")\n",
    "os.chdir(directory)\n",
    "\n",
    "for folder in os.listdir(directory):\n",
    "    new_path = os.path.join(os.getcwd(), folder)\n",
    "    os.chdir(new_path)\n",
    "\n",
    "    for file in os.listdir(new_path):\n",
    "        labels.append(folder)\n",
    "        nn_data.append(get_mel_spectograms())\n",
    "\n",
    "    os.chdir(directory)\n"
   ]
  },
  {
   "cell_type": "code",
   "execution_count": null,
   "metadata": {},
   "outputs": [],
   "source": [
    "print(labels)\n",
    "print(nn_data)"
   ]
  }
 ],
 "metadata": {
  "kernelspec": {
   "display_name": "VENV",
   "language": "python",
   "name": "venv"
  },
  "language_info": {
   "codemirror_mode": {
    "name": "ipython",
    "version": 3
   },
   "file_extension": ".py",
   "mimetype": "text/x-python",
   "name": "python",
   "nbconvert_exporter": "python",
   "pygments_lexer": "ipython3",
   "version": "3.9.7"
  }
 },
 "nbformat": 4,
 "nbformat_minor": 2
}
