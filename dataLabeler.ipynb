{
 "cells": [
  {
   "cell_type": "code",
   "execution_count": 2,
   "metadata": {},
   "outputs": [],
   "source": [
    "#Import Required Libraries\n",
    "import numpy as np\n",
    "import os"
   ]
  },
  {
   "cell_type": "code",
   "execution_count": null,
   "metadata": {},
   "outputs": [],
   "source": [
    "from work import *\n",
    "\n",
    "labels = []\n",
    "nn_data = []\n",
    "mlp_data = []\n",
    "\n",
    "directory = os.path.join(os.getcwd(), \"sample_audio_training\")\n",
    "os.chdir(directory)\n",
    "\n",
    "for folder in os.listdir(directory):\n",
    "    new_path = os.path.join(os.getcwd(), folder)\n",
    "    os.chdir(new_path)\n",
    "\n",
    "    for file in os.listdir(new_path):\n",
    "        labels.append(folder)\n",
    "        nn_data.append(get_mel_spectograms())\n",
    "\n",
    "    os.chdir(directory)\n"
   ]
  },
  {
   "cell_type": "code",
   "execution_count": 6,
   "metadata": {},
   "outputs": [
    {
     "name": "stdout",
     "output_type": "stream",
     "text": [
      "['violin', 'violin', 'violin', 'violin', 'violin', 'violin', 'violin', 'violin', 'violin', 'violin', 'violin', 'violin', 'violin', 'violin', 'violin', 'violin', 'violin', 'violin', 'violin', 'violin', 'violin', 'oboe', 'oboe', 'oboe', 'oboe', 'oboe', 'oboe', 'oboe', 'oboe', 'oboe', 'oboe', 'oboe', 'oboe', 'oboe', 'oboe', 'oboe', 'oboe', 'oboe', 'oboe', 'oboe', 'oboe', 'oboe', 'trumpet', 'trumpet', 'trumpet', 'trumpet', 'trumpet', 'trumpet', 'trumpet', 'trumpet', 'trumpet', 'trumpet', 'trumpet', 'trumpet', 'trumpet', 'trumpet', 'trumpet', 'trumpet', 'trumpet', 'trumpet', 'trumpet', 'trumpet', 'trumpet']\n",
      "['0010.wav', '0004.wav', '0005.wav', '0011.wav', '0007.wav', '0013.wav', '0012.wav', '0006.wav', '0002.wav', '0016.wav', '0017.wav', '0003.wav', '0015.wav', '0001.wav', '0000.wav', '0014.wav', '0019.wav', '0018.wav', '0008.wav', '0020.wav', '0009.wav', '0010.wav', '0004.wav', '0005.wav', '0011.wav', '0007.wav', '0013.wav', '0012.wav', '0006.wav', '0002.wav', '0016.wav', '0017.wav', '0003.wav', '0015.wav', '0001.wav', '0000.wav', '0014.wav', '0019.wav', '0018.wav', '0008.wav', '0020.wav', '0009.wav', '0010.wav', '0004.wav', '0005.wav', '0011.wav', '0007.wav', '0013.wav', '0012.wav', '0006.wav', '0002.wav', '0016.wav', '0017.wav', '0003.wav', '0015.wav', '0001.wav', '0000.wav', '0014.wav', '0019.wav', '0018.wav', '0008.wav', '0020.wav', '0009.wav']\n"
     ]
    },
    {
     "ename": "",
     "evalue": "",
     "output_type": "error",
     "traceback": [
      "\u001b[1;31mThe Kernel crashed while executing code in the current cell or a previous cell. \n",
      "\u001b[1;31mPlease review the code in the cell(s) to identify a possible cause of the failure. \n",
      "\u001b[1;31mClick <a href='https://aka.ms/vscodeJupyterKernelCrash'>here</a> for more info. \n",
      "\u001b[1;31mView Jupyter <a href='command:jupyter.viewOutput'>log</a> for further details."
     ]
    }
   ],
   "source": [
    "print(labels)\n",
    "print(data)"
   ]
  }
 ],
 "metadata": {
  "kernelspec": {
   "display_name": "VENV",
   "language": "python",
   "name": "venv"
  },
  "language_info": {
   "codemirror_mode": {
    "name": "ipython",
    "version": 3
   },
   "file_extension": ".py",
   "mimetype": "text/x-python",
   "name": "python",
   "nbconvert_exporter": "python",
   "pygments_lexer": "ipython3",
   "version": "3.9.7"
  }
 },
 "nbformat": 4,
 "nbformat_minor": 2
}
