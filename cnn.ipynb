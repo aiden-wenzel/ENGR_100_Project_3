{
 "cells": [
  {
   "cell_type": "code",
   "execution_count": 7,
   "metadata": {},
   "outputs": [],
   "source": [
    "import numpy as np\n",
    "import tensorflow as tf\n",
    "\n",
    "from keras import models, layers"
   ]
  },
  {
   "cell_type": "code",
   "execution_count": 8,
   "metadata": {},
   "outputs": [],
   "source": [
    "# CNN according to research paper\n",
    "\n",
    "totalInstruments = 3\n",
    "\n",
    "class CNN:\n",
    "    def __init__(self):\n",
    "        self.model = models.Sequential()\n",
    "\n",
    "        self.model.add(layers.Conv2D(64, (3,3)))\n",
    "        self.model.add(layers.MaxPool2D((2,2)))\n",
    "        self.model.add(layers.BatchNormalization(16))\n",
    "        self.model.add(layers.ELU(7))\n",
    "\n",
    "        self.model.add(layers.Conv2D(128, (3,3)))\n",
    "        self.model.add(layers.MaxPool2D((2,2)))\n",
    "        self.model.add(layers.BatchNormalization(16))\n",
    "        self.model.add(layers.ELU(7))\n",
    "\n",
    "        self.model.add(layers.Conv2D(256, (3,3)))\n",
    "        self.model.add(layers.MaxPool2D((3,3)))\n",
    "        self.model.add(layers.BatchNormalization(16))\n",
    "        self.model.add(layers.ELU(7))\n",
    "\n",
    "        self.model.add(layers.Conv2D(640, (3,3)))\n",
    "        self.model.add(layers.MaxPool2D((3,3)))\n",
    "        self.model.add(layers.BatchNormalization(16))\n",
    "        self.model.add(layers.ELU(7))\n",
    "\n",
    "        self.model.add(layers.Flatten())\n",
    "\n",
    "        self.model.add(layers.Dense(128))\n",
    "        self.model.add(layers.Dense(totalInstruments))\n"
   ]
  },
  {
   "cell_type": "code",
   "execution_count": 9,
   "metadata": {},
   "outputs": [],
   "source": [
    "# TODO: training specifications\n",
    "cnn = CNN()"
   ]
  }
 ],
 "metadata": {
  "kernelspec": {
   "display_name": "env",
   "language": "python",
   "name": "python3"
  },
  "language_info": {
   "codemirror_mode": {
    "name": "ipython",
    "version": 3
   },
   "file_extension": ".py",
   "mimetype": "text/x-python",
   "name": "python",
   "nbconvert_exporter": "python",
   "pygments_lexer": "ipython3",
   "version": "3.12.2"
  }
 },
 "nbformat": 4,
 "nbformat_minor": 2
}
