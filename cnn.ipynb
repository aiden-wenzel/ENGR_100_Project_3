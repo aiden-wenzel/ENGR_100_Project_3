{
 "cells": [
  {
   "cell_type": "code",
   "execution_count": null,
   "metadata": {},
   "outputs": [],
   "source": [
    "import numpy as np\n",
    "import tensorflow as tf\n",
    "\n",
    "from keras import models, layers"
   ]
  },
  {
   "cell_type": "code",
   "execution_count": null,
   "metadata": {},
   "outputs": [],
   "source": [
    "# CNN according to research paper\n",
    "class CNN:\n",
    "    def __init__(self):\n",
    "        self.model = models.Sequential()\n",
    "\n",
    "        self.model.add(layers.Conv2D())\n",
    "        self.model.add(layers.BatchNormalization())\n",
    "        self.model.add(layers.ELU())\n",
    "\n",
    "        self.model.add(layers.Conv2D())\n",
    "        self.model.add(layers.BatchNormalization())\n",
    "        self.model.add(layers.ELU())\n",
    "\n",
    "        self.model.add(layers.Conv2D())\n",
    "        self.model.add(layers.BatchNormalization())\n",
    "        self.model.add(layers.ELU())\n",
    "\n",
    "        self.model.add(layers.Conv2D())\n",
    "        self.model.add(layers.BatchNormalization())\n",
    "        self.model.add(layers.ELU())\n",
    "\n",
    "        self.model.add(layers.Flatten())\n",
    "\n",
    "        self.model.add(layers.Dense())\n",
    "        self.model.add(layers.Dense())\n",
    "\n",
    "# et viola -- so many layers!\n",
    "# will add values/weightings accordingly"
   ]
  },
  {
   "cell_type": "code",
   "execution_count": null,
   "metadata": {},
   "outputs": [],
   "source": [
    "# TODO: training specifications"
   ]
  }
 ],
 "metadata": {
  "kernelspec": {
   "display_name": "env",
   "language": "python",
   "name": "python3"
  },
  "language_info": {
   "name": "python",
   "version": "3.12.2"
  }
 },
 "nbformat": 4,
 "nbformat_minor": 2
}
